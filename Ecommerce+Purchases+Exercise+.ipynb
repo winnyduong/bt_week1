{
 "cells": [
  {
   "cell_type": "markdown",
   "metadata": {},
   "source": [
    "# Ecommerce Purchases Exercise\n",
    "\n",
    "In this Exercise you will be given some Fake Data about some purchases done through Amazon! Just go ahead and follow the directions and try your best to answer the questions and complete the tasks. Feel free to reference the solutions. Most of the tasks can be solved in different ways. For the most part, the questions get progressively harder.\n",
    "\n",
    "Please excuse anything that doesn't make \"Real-World\" sense in the dataframe, all the data is fake and made-up.\n",
    "\n",
    "Also note that all of these questions can be answered with one line of code.\n",
    "____\n",
    "** Import pandas and read in the Ecommerce Purchases csv file and set it to a DataFrame called ecom. **"
   ]
  },
  {
   "cell_type": "code",
   "execution_count": 1,
   "metadata": {},
   "outputs": [],
   "source": [
    "import pandas as pd\n",
    "import seaborn as sns"
   ]
  },
  {
   "cell_type": "code",
   "execution_count": 3,
   "metadata": {},
   "outputs": [],
   "source": [
    "ecom=pd.read_csv('EcommercePurchases.csv')"
   ]
  },
  {
   "cell_type": "code",
   "execution_count": null,
   "metadata": {},
   "outputs": [],
   "source": []
  },
  {
   "cell_type": "markdown",
   "metadata": {},
   "source": [
    "**Check the head of the DataFrame.**"
   ]
  },
  {
   "cell_type": "code",
   "execution_count": 36,
   "metadata": {},
   "outputs": [
    {
     "data": {
      "text/html": [
       "<div>\n",
       "<style scoped>\n",
       "    .dataframe tbody tr th:only-of-type {\n",
       "        vertical-align: middle;\n",
       "    }\n",
       "\n",
       "    .dataframe tbody tr th {\n",
       "        vertical-align: top;\n",
       "    }\n",
       "\n",
       "    .dataframe thead th {\n",
       "        text-align: right;\n",
       "    }\n",
       "</style>\n",
       "<table border=\"1\" class=\"dataframe\">\n",
       "  <thead>\n",
       "    <tr style=\"text-align: right;\">\n",
       "      <th></th>\n",
       "      <th>Address</th>\n",
       "      <th>Lot</th>\n",
       "      <th>AM or PM</th>\n",
       "      <th>Browser Info</th>\n",
       "      <th>Company</th>\n",
       "      <th>Credit Card</th>\n",
       "      <th>CC Exp Date</th>\n",
       "      <th>CC Security Code</th>\n",
       "      <th>CC Provider</th>\n",
       "      <th>Email</th>\n",
       "      <th>Job</th>\n",
       "      <th>IP Address</th>\n",
       "      <th>Language</th>\n",
       "      <th>Purchase Price</th>\n",
       "    </tr>\n",
       "  </thead>\n",
       "  <tbody>\n",
       "    <tr>\n",
       "      <th>0</th>\n",
       "      <td>16629 Pace Camp Apt. 448\\nAlexisborough, NE 77...</td>\n",
       "      <td>46 in</td>\n",
       "      <td>PM</td>\n",
       "      <td>Opera/9.56.(X11; Linux x86_64; sl-SI) Presto/2...</td>\n",
       "      <td>Martinez-Herman</td>\n",
       "      <td>6011929061123406</td>\n",
       "      <td>02/20</td>\n",
       "      <td>900</td>\n",
       "      <td>JCB 16 digit</td>\n",
       "      <td>pdunlap@yahoo.com</td>\n",
       "      <td>Scientist, product/process development</td>\n",
       "      <td>149.146.147.205</td>\n",
       "      <td>el</td>\n",
       "      <td>98.14</td>\n",
       "    </tr>\n",
       "    <tr>\n",
       "      <th>1</th>\n",
       "      <td>9374 Jasmine Spurs Suite 508\\nSouth John, TN 8...</td>\n",
       "      <td>28 rn</td>\n",
       "      <td>PM</td>\n",
       "      <td>Opera/8.93.(Windows 98; Win 9x 4.90; en-US) Pr...</td>\n",
       "      <td>Fletcher, Richards and Whitaker</td>\n",
       "      <td>3337758169645356</td>\n",
       "      <td>11/18</td>\n",
       "      <td>561</td>\n",
       "      <td>Mastercard</td>\n",
       "      <td>anthony41@reed.com</td>\n",
       "      <td>Drilling engineer</td>\n",
       "      <td>15.160.41.51</td>\n",
       "      <td>fr</td>\n",
       "      <td>70.73</td>\n",
       "    </tr>\n",
       "    <tr>\n",
       "      <th>2</th>\n",
       "      <td>Unit 0065 Box 5052\\nDPO AP 27450</td>\n",
       "      <td>94 vE</td>\n",
       "      <td>PM</td>\n",
       "      <td>Mozilla/5.0 (compatible; MSIE 9.0; Windows NT ...</td>\n",
       "      <td>Simpson, Williams and Pham</td>\n",
       "      <td>675957666125</td>\n",
       "      <td>08/19</td>\n",
       "      <td>699</td>\n",
       "      <td>JCB 16 digit</td>\n",
       "      <td>amymiller@morales-harrison.com</td>\n",
       "      <td>Customer service manager</td>\n",
       "      <td>132.207.160.22</td>\n",
       "      <td>de</td>\n",
       "      <td>0.95</td>\n",
       "    </tr>\n",
       "    <tr>\n",
       "      <th>3</th>\n",
       "      <td>7780 Julia Fords\\nNew Stacy, WA 45798</td>\n",
       "      <td>36 vm</td>\n",
       "      <td>PM</td>\n",
       "      <td>Mozilla/5.0 (Macintosh; Intel Mac OS X 10_8_0 ...</td>\n",
       "      <td>Williams, Marshall and Buchanan</td>\n",
       "      <td>6011578504430710</td>\n",
       "      <td>02/24</td>\n",
       "      <td>384</td>\n",
       "      <td>Discover</td>\n",
       "      <td>brent16@olson-robinson.info</td>\n",
       "      <td>Drilling engineer</td>\n",
       "      <td>30.250.74.19</td>\n",
       "      <td>es</td>\n",
       "      <td>78.04</td>\n",
       "    </tr>\n",
       "    <tr>\n",
       "      <th>4</th>\n",
       "      <td>23012 Munoz Drive Suite 337\\nNew Cynthia, TX 5...</td>\n",
       "      <td>20 IE</td>\n",
       "      <td>AM</td>\n",
       "      <td>Opera/9.58.(X11; Linux x86_64; it-IT) Presto/2...</td>\n",
       "      <td>Brown, Watson and Andrews</td>\n",
       "      <td>6011456623207998</td>\n",
       "      <td>10/25</td>\n",
       "      <td>678</td>\n",
       "      <td>Diners Club / Carte Blanche</td>\n",
       "      <td>christopherwright@gmail.com</td>\n",
       "      <td>Fine artist</td>\n",
       "      <td>24.140.33.94</td>\n",
       "      <td>es</td>\n",
       "      <td>77.82</td>\n",
       "    </tr>\n",
       "    <tr>\n",
       "      <th>5</th>\n",
       "      <td>7502 Powell Mission Apt. 768\\nTravisland, VA 3...</td>\n",
       "      <td>21 XT</td>\n",
       "      <td>PM</td>\n",
       "      <td>Mozilla/5.0 (Macintosh; U; PPC Mac OS X 10_8_5...</td>\n",
       "      <td>Silva-Anderson</td>\n",
       "      <td>30246185196287</td>\n",
       "      <td>07/25</td>\n",
       "      <td>7169</td>\n",
       "      <td>Discover</td>\n",
       "      <td>ynguyen@gmail.com</td>\n",
       "      <td>Fish farm manager</td>\n",
       "      <td>55.96.152.147</td>\n",
       "      <td>ru</td>\n",
       "      <td>25.15</td>\n",
       "    </tr>\n",
       "    <tr>\n",
       "      <th>6</th>\n",
       "      <td>93971 Conway Causeway\\nAndersonburgh, AZ 75107</td>\n",
       "      <td>96 Xt</td>\n",
       "      <td>AM</td>\n",
       "      <td>Mozilla/5.0 (compatible; MSIE 7.0; Windows NT ...</td>\n",
       "      <td>Gibson and Sons</td>\n",
       "      <td>6011398782655569</td>\n",
       "      <td>07/24</td>\n",
       "      <td>714</td>\n",
       "      <td>VISA 16 digit</td>\n",
       "      <td>olivia04@yahoo.com</td>\n",
       "      <td>Dancer</td>\n",
       "      <td>127.252.144.18</td>\n",
       "      <td>de</td>\n",
       "      <td>88.56</td>\n",
       "    </tr>\n",
       "    <tr>\n",
       "      <th>7</th>\n",
       "      <td>260 Rachel Plains Suite 366\\nCastroberg, WV 24...</td>\n",
       "      <td>96 pG</td>\n",
       "      <td>PM</td>\n",
       "      <td>Mozilla/5.0 (X11; Linux i686) AppleWebKit/5350...</td>\n",
       "      <td>Marshall-Collins</td>\n",
       "      <td>561252141909</td>\n",
       "      <td>06/25</td>\n",
       "      <td>256</td>\n",
       "      <td>VISA 13 digit</td>\n",
       "      <td>phillip48@parks.info</td>\n",
       "      <td>Event organiser</td>\n",
       "      <td>224.247.97.150</td>\n",
       "      <td>pt</td>\n",
       "      <td>44.25</td>\n",
       "    </tr>\n",
       "    <tr>\n",
       "      <th>8</th>\n",
       "      <td>2129 Dylan Burg\\nNew Michelle, ME 28650</td>\n",
       "      <td>45 JN</td>\n",
       "      <td>PM</td>\n",
       "      <td>Mozilla/5.0 (Macintosh; U; Intel Mac OS X 10_7...</td>\n",
       "      <td>Galloway and Sons</td>\n",
       "      <td>180041795790001</td>\n",
       "      <td>04/24</td>\n",
       "      <td>899</td>\n",
       "      <td>JCB 16 digit</td>\n",
       "      <td>kdavis@rasmussen.com</td>\n",
       "      <td>Financial manager</td>\n",
       "      <td>146.234.201.229</td>\n",
       "      <td>ru</td>\n",
       "      <td>59.54</td>\n",
       "    </tr>\n",
       "    <tr>\n",
       "      <th>9</th>\n",
       "      <td>3795 Dawson Extensions\\nLake Tinafort, ID 88739</td>\n",
       "      <td>15 Ug</td>\n",
       "      <td>AM</td>\n",
       "      <td>Mozilla/5.0 (X11; Linux i686; rv:1.9.7.20) Gec...</td>\n",
       "      <td>Rivera, Buchanan and Ramirez</td>\n",
       "      <td>4396283918371</td>\n",
       "      <td>01/17</td>\n",
       "      <td>931</td>\n",
       "      <td>American Express</td>\n",
       "      <td>qcoleman@hunt-huerta.com</td>\n",
       "      <td>Forensic scientist</td>\n",
       "      <td>236.198.199.8</td>\n",
       "      <td>zh</td>\n",
       "      <td>95.63</td>\n",
       "    </tr>\n",
       "    <tr>\n",
       "      <th>10</th>\n",
       "      <td>650 Elizabeth Park\\nLake Maria, LA 13526-2530</td>\n",
       "      <td>65 Yn</td>\n",
       "      <td>PM</td>\n",
       "      <td>Mozilla/5.0 (iPod; U; CPU iPhone OS 4_1 like M...</td>\n",
       "      <td>Strickland, Michael and Gonzales</td>\n",
       "      <td>180036417827355</td>\n",
       "      <td>02/17</td>\n",
       "      <td>754</td>\n",
       "      <td>Voyager</td>\n",
       "      <td>ustewart@hotmail.com</td>\n",
       "      <td>Development worker, community</td>\n",
       "      <td>26.59.93.1</td>\n",
       "      <td>el</td>\n",
       "      <td>96.89</td>\n",
       "    </tr>\n",
       "    <tr>\n",
       "      <th>11</th>\n",
       "      <td>349 Laurie Parks\\nThomasview, ID 08970</td>\n",
       "      <td>30 kK</td>\n",
       "      <td>PM</td>\n",
       "      <td>Mozilla/5.0 (X11; Linux i686; rv:1.9.6.20) Gec...</td>\n",
       "      <td>Kim-Oliver</td>\n",
       "      <td>869975209012056</td>\n",
       "      <td>06/26</td>\n",
       "      <td>9717</td>\n",
       "      <td>JCB 15 digit</td>\n",
       "      <td>johnnymiller@coleman.com</td>\n",
       "      <td>Diagnostic radiographer</td>\n",
       "      <td>128.222.40.234</td>\n",
       "      <td>en</td>\n",
       "      <td>19.26</td>\n",
       "    </tr>\n",
       "    <tr>\n",
       "      <th>12</th>\n",
       "      <td>733 Heather Rest Apt. 670\\nBoltonport, UT 78662</td>\n",
       "      <td>69 DO</td>\n",
       "      <td>AM</td>\n",
       "      <td>Mozilla/5.0 (Macintosh; Intel Mac OS X 10_5_3 ...</td>\n",
       "      <td>Moore-Martin</td>\n",
       "      <td>5115990487067905</td>\n",
       "      <td>05/26</td>\n",
       "      <td>119</td>\n",
       "      <td>VISA 16 digit</td>\n",
       "      <td>tholt@hotmail.com</td>\n",
       "      <td>Surveyor, quantity</td>\n",
       "      <td>236.71.234.240</td>\n",
       "      <td>en</td>\n",
       "      <td>39.65</td>\n",
       "    </tr>\n",
       "    <tr>\n",
       "      <th>13</th>\n",
       "      <td>118 Melton Via Suite 681\\nAlexanderbury, FL 32104</td>\n",
       "      <td>36 bu</td>\n",
       "      <td>PM</td>\n",
       "      <td>Mozilla/5.0 (Macintosh; U; Intel Mac OS X 10_8...</td>\n",
       "      <td>Keller PLC</td>\n",
       "      <td>4603635169938574</td>\n",
       "      <td>01/25</td>\n",
       "      <td>557</td>\n",
       "      <td>VISA 16 digit</td>\n",
       "      <td>caitlin57@yahoo.com</td>\n",
       "      <td>Accountant, chartered public finance</td>\n",
       "      <td>84.212.92.11</td>\n",
       "      <td>it</td>\n",
       "      <td>8.93</td>\n",
       "    </tr>\n",
       "    <tr>\n",
       "      <th>14</th>\n",
       "      <td>8774 Jason Keys Suite 427\\nEast Scottborough, ...</td>\n",
       "      <td>70 zH</td>\n",
       "      <td>AM</td>\n",
       "      <td>Mozilla/5.0 (Windows 98; it-IT; rv:1.9.2.20) G...</td>\n",
       "      <td>Leach, Howe and Ferguson</td>\n",
       "      <td>869967499275071</td>\n",
       "      <td>09/22</td>\n",
       "      <td>427</td>\n",
       "      <td>VISA 16 digit</td>\n",
       "      <td>aburns@yahoo.com</td>\n",
       "      <td>Acupuncturist</td>\n",
       "      <td>50.25.148.1</td>\n",
       "      <td>de</td>\n",
       "      <td>24.18</td>\n",
       "    </tr>\n",
       "  </tbody>\n",
       "</table>\n",
       "</div>"
      ],
      "text/plain": [
       "                                              Address    Lot AM or PM  \\\n",
       "0   16629 Pace Camp Apt. 448\\nAlexisborough, NE 77...  46 in       PM   \n",
       "1   9374 Jasmine Spurs Suite 508\\nSouth John, TN 8...  28 rn       PM   \n",
       "2                    Unit 0065 Box 5052\\nDPO AP 27450  94 vE       PM   \n",
       "3               7780 Julia Fords\\nNew Stacy, WA 45798  36 vm       PM   \n",
       "4   23012 Munoz Drive Suite 337\\nNew Cynthia, TX 5...  20 IE       AM   \n",
       "5   7502 Powell Mission Apt. 768\\nTravisland, VA 3...  21 XT       PM   \n",
       "6      93971 Conway Causeway\\nAndersonburgh, AZ 75107  96 Xt       AM   \n",
       "7   260 Rachel Plains Suite 366\\nCastroberg, WV 24...  96 pG       PM   \n",
       "8             2129 Dylan Burg\\nNew Michelle, ME 28650  45 JN       PM   \n",
       "9     3795 Dawson Extensions\\nLake Tinafort, ID 88739  15 Ug       AM   \n",
       "10      650 Elizabeth Park\\nLake Maria, LA 13526-2530  65 Yn       PM   \n",
       "11             349 Laurie Parks\\nThomasview, ID 08970  30 kK       PM   \n",
       "12    733 Heather Rest Apt. 670\\nBoltonport, UT 78662  69 DO       AM   \n",
       "13  118 Melton Via Suite 681\\nAlexanderbury, FL 32104  36 bu       PM   \n",
       "14  8774 Jason Keys Suite 427\\nEast Scottborough, ...  70 zH       AM   \n",
       "\n",
       "                                         Browser Info  \\\n",
       "0   Opera/9.56.(X11; Linux x86_64; sl-SI) Presto/2...   \n",
       "1   Opera/8.93.(Windows 98; Win 9x 4.90; en-US) Pr...   \n",
       "2   Mozilla/5.0 (compatible; MSIE 9.0; Windows NT ...   \n",
       "3   Mozilla/5.0 (Macintosh; Intel Mac OS X 10_8_0 ...   \n",
       "4   Opera/9.58.(X11; Linux x86_64; it-IT) Presto/2...   \n",
       "5   Mozilla/5.0 (Macintosh; U; PPC Mac OS X 10_8_5...   \n",
       "6   Mozilla/5.0 (compatible; MSIE 7.0; Windows NT ...   \n",
       "7   Mozilla/5.0 (X11; Linux i686) AppleWebKit/5350...   \n",
       "8   Mozilla/5.0 (Macintosh; U; Intel Mac OS X 10_7...   \n",
       "9   Mozilla/5.0 (X11; Linux i686; rv:1.9.7.20) Gec...   \n",
       "10  Mozilla/5.0 (iPod; U; CPU iPhone OS 4_1 like M...   \n",
       "11  Mozilla/5.0 (X11; Linux i686; rv:1.9.6.20) Gec...   \n",
       "12  Mozilla/5.0 (Macintosh; Intel Mac OS X 10_5_3 ...   \n",
       "13  Mozilla/5.0 (Macintosh; U; Intel Mac OS X 10_8...   \n",
       "14  Mozilla/5.0 (Windows 98; it-IT; rv:1.9.2.20) G...   \n",
       "\n",
       "                             Company       Credit Card CC Exp Date  \\\n",
       "0                    Martinez-Herman  6011929061123406       02/20   \n",
       "1    Fletcher, Richards and Whitaker  3337758169645356       11/18   \n",
       "2         Simpson, Williams and Pham      675957666125       08/19   \n",
       "3    Williams, Marshall and Buchanan  6011578504430710       02/24   \n",
       "4          Brown, Watson and Andrews  6011456623207998       10/25   \n",
       "5                     Silva-Anderson    30246185196287       07/25   \n",
       "6                    Gibson and Sons  6011398782655569       07/24   \n",
       "7                   Marshall-Collins      561252141909       06/25   \n",
       "8                  Galloway and Sons   180041795790001       04/24   \n",
       "9       Rivera, Buchanan and Ramirez     4396283918371       01/17   \n",
       "10  Strickland, Michael and Gonzales   180036417827355       02/17   \n",
       "11                        Kim-Oliver   869975209012056       06/26   \n",
       "12                      Moore-Martin  5115990487067905       05/26   \n",
       "13                        Keller PLC  4603635169938574       01/25   \n",
       "14          Leach, Howe and Ferguson   869967499275071       09/22   \n",
       "\n",
       "    CC Security Code                  CC Provider  \\\n",
       "0                900                 JCB 16 digit   \n",
       "1                561                   Mastercard   \n",
       "2                699                 JCB 16 digit   \n",
       "3                384                     Discover   \n",
       "4                678  Diners Club / Carte Blanche   \n",
       "5               7169                     Discover   \n",
       "6                714                VISA 16 digit   \n",
       "7                256                VISA 13 digit   \n",
       "8                899                 JCB 16 digit   \n",
       "9                931             American Express   \n",
       "10               754                      Voyager   \n",
       "11              9717                 JCB 15 digit   \n",
       "12               119                VISA 16 digit   \n",
       "13               557                VISA 16 digit   \n",
       "14               427                VISA 16 digit   \n",
       "\n",
       "                             Email                                     Job  \\\n",
       "0                pdunlap@yahoo.com  Scientist, product/process development   \n",
       "1               anthony41@reed.com                       Drilling engineer   \n",
       "2   amymiller@morales-harrison.com                Customer service manager   \n",
       "3      brent16@olson-robinson.info                       Drilling engineer   \n",
       "4      christopherwright@gmail.com                             Fine artist   \n",
       "5                ynguyen@gmail.com                       Fish farm manager   \n",
       "6               olivia04@yahoo.com                                  Dancer   \n",
       "7             phillip48@parks.info                         Event organiser   \n",
       "8             kdavis@rasmussen.com                       Financial manager   \n",
       "9         qcoleman@hunt-huerta.com                      Forensic scientist   \n",
       "10            ustewart@hotmail.com           Development worker, community   \n",
       "11        johnnymiller@coleman.com                 Diagnostic radiographer   \n",
       "12               tholt@hotmail.com                      Surveyor, quantity   \n",
       "13             caitlin57@yahoo.com    Accountant, chartered public finance   \n",
       "14                aburns@yahoo.com                           Acupuncturist   \n",
       "\n",
       "         IP Address Language  Purchase Price  \n",
       "0   149.146.147.205       el           98.14  \n",
       "1      15.160.41.51       fr           70.73  \n",
       "2    132.207.160.22       de            0.95  \n",
       "3      30.250.74.19       es           78.04  \n",
       "4      24.140.33.94       es           77.82  \n",
       "5     55.96.152.147       ru           25.15  \n",
       "6    127.252.144.18       de           88.56  \n",
       "7    224.247.97.150       pt           44.25  \n",
       "8   146.234.201.229       ru           59.54  \n",
       "9     236.198.199.8       zh           95.63  \n",
       "10       26.59.93.1       el           96.89  \n",
       "11   128.222.40.234       en           19.26  \n",
       "12   236.71.234.240       en           39.65  \n",
       "13     84.212.92.11       it            8.93  \n",
       "14      50.25.148.1       de           24.18  "
      ]
     },
     "execution_count": 36,
     "metadata": {},
     "output_type": "execute_result"
    }
   ],
   "source": [
    "ecom.head(15)"
   ]
  },
  {
   "cell_type": "markdown",
   "metadata": {},
   "source": [
    "** How many rows and columns are there? **"
   ]
  },
  {
   "cell_type": "code",
   "execution_count": 21,
   "metadata": {},
   "outputs": [
    {
     "data": {
      "text/plain": [
       "10000"
      ]
     },
     "execution_count": 21,
     "metadata": {},
     "output_type": "execute_result"
    }
   ],
   "source": [
    "#rows\n",
    "ecom.shape[0]"
   ]
  },
  {
   "cell_type": "code",
   "execution_count": 20,
   "metadata": {},
   "outputs": [
    {
     "data": {
      "text/plain": [
       "14"
      ]
     },
     "execution_count": 20,
     "metadata": {},
     "output_type": "execute_result"
    }
   ],
   "source": [
    "#colums\n",
    "ecom.shape[1] "
   ]
  },
  {
   "cell_type": "code",
   "execution_count": 24,
   "metadata": {},
   "outputs": [
    {
     "name": "stdout",
     "output_type": "stream",
     "text": [
      "<class 'pandas.core.frame.DataFrame'>\n",
      "RangeIndex: 10000 entries, 0 to 9999\n",
      "Data columns (total 14 columns):\n",
      "Address             10000 non-null object\n",
      "Lot                 10000 non-null object\n",
      "AM or PM            10000 non-null object\n",
      "Browser Info        10000 non-null object\n",
      "Company             10000 non-null object\n",
      "Credit Card         10000 non-null int64\n",
      "CC Exp Date         10000 non-null object\n",
      "CC Security Code    10000 non-null int64\n",
      "CC Provider         10000 non-null object\n",
      "Email               10000 non-null object\n",
      "Job                 10000 non-null object\n",
      "IP Address          10000 non-null object\n",
      "Language            10000 non-null object\n",
      "Purchase Price      10000 non-null float64\n",
      "dtypes: float64(1), int64(2), object(11)\n",
      "memory usage: 1.1+ MB\n"
     ]
    }
   ],
   "source": [
    "#generalinfo\n",
    "ecom.info()"
   ]
  },
  {
   "cell_type": "markdown",
   "metadata": {},
   "source": [
    "** What is the average Purchase Price? **"
   ]
  },
  {
   "cell_type": "code",
   "execution_count": 9,
   "metadata": {},
   "outputs": [
    {
     "data": {
      "text/plain": [
       "50.34730200000025"
      ]
     },
     "execution_count": 9,
     "metadata": {},
     "output_type": "execute_result"
    }
   ],
   "source": [
    "ecom['Purchase Price'].mean()"
   ]
  },
  {
   "cell_type": "markdown",
   "metadata": {},
   "source": [
    "** What were the highest and lowest purchase prices? **"
   ]
  },
  {
   "cell_type": "code",
   "execution_count": 10,
   "metadata": {},
   "outputs": [
    {
     "data": {
      "text/plain": [
       "99.99"
      ]
     },
     "execution_count": 10,
     "metadata": {},
     "output_type": "execute_result"
    }
   ],
   "source": [
    "ecom['Purchase Price'].max()"
   ]
  },
  {
   "cell_type": "code",
   "execution_count": 11,
   "metadata": {},
   "outputs": [
    {
     "data": {
      "text/plain": [
       "0.0"
      ]
     },
     "execution_count": 11,
     "metadata": {},
     "output_type": "execute_result"
    }
   ],
   "source": [
    "ecom['Purchase Price'].min()"
   ]
  },
  {
   "cell_type": "markdown",
   "metadata": {},
   "source": [
    "** How many people have English 'en' as their Language of choice on the website? **"
   ]
  },
  {
   "cell_type": "code",
   "execution_count": 39,
   "metadata": {},
   "outputs": [
    {
     "data": {
      "text/plain": [
       "de    1155\n",
       "ru    1155\n",
       "el    1137\n",
       "pt    1118\n",
       "en    1098\n",
       "fr    1097\n",
       "es    1095\n",
       "it    1086\n",
       "zh    1059\n",
       "Name: Language, dtype: int64"
      ]
     },
     "execution_count": 39,
     "metadata": {},
     "output_type": "execute_result"
    }
   ],
   "source": [
    "ecom['Language'].value_counts()\n",
    "#en=1098"
   ]
  },
  {
   "cell_type": "markdown",
   "metadata": {},
   "source": [
    "** How many people have the job title of \"Lawyer\" ? **\n"
   ]
  },
  {
   "cell_type": "code",
   "execution_count": 88,
   "metadata": {},
   "outputs": [
    {
     "data": {
      "text/plain": [
       "30"
      ]
     },
     "execution_count": 88,
     "metadata": {},
     "output_type": "execute_result"
    }
   ],
   "source": [
    "sum(ecom['Job'].str.lower().str.contains('lawyer'))"
   ]
  },
  {
   "cell_type": "markdown",
   "metadata": {},
   "source": [
    "###### ** How many people made the purchase during the AM and how many people made the purchase during PM ? **\n",
    "\n",
    "**(Hint: Check out [value_counts()](http://pandas.pydata.org/pandas-docs/stable/generated/pandas.Series.value_counts.html) ) **"
   ]
  },
  {
   "cell_type": "code",
   "execution_count": 33,
   "metadata": {},
   "outputs": [
    {
     "data": {
      "text/plain": [
       "PM    5068\n",
       "AM    4932\n",
       "Name: AM or PM, dtype: int64"
      ]
     },
     "execution_count": 33,
     "metadata": {},
     "output_type": "execute_result"
    }
   ],
   "source": [
    "ecom['AM or PM'].value_counts()"
   ]
  },
  {
   "cell_type": "markdown",
   "metadata": {},
   "source": [
    "** What are the 5 most common Job Titles? **"
   ]
  },
  {
   "cell_type": "code",
   "execution_count": 43,
   "metadata": {},
   "outputs": [
    {
     "data": {
      "text/plain": [
       "Interior and spatial designer        31\n",
       "Lawyer                               30\n",
       "Social researcher                    28\n",
       "Designer, jewellery                  27\n",
       "Research officer, political party    27\n",
       "Name: Job, dtype: int64"
      ]
     },
     "execution_count": 43,
     "metadata": {},
     "output_type": "execute_result"
    }
   ],
   "source": [
    "ecom['Job'].nunique()\n",
    "ecom['Job'].value_counts().head(5)"
   ]
  },
  {
   "cell_type": "markdown",
   "metadata": {},
   "source": [
    "** Someone made a purchase that came from Lot: \"90 WT\" , what was the Purchase Price for this transaction? **"
   ]
  },
  {
   "cell_type": "code",
   "execution_count": 44,
   "metadata": {},
   "outputs": [
    {
     "data": {
      "text/plain": [
       "513    75.1\n",
       "Name: Purchase Price, dtype: float64"
      ]
     },
     "execution_count": 44,
     "metadata": {},
     "output_type": "execute_result"
    }
   ],
   "source": [
    "ecom[ecom['Lot']=='90 WT']['Purchase Price']"
   ]
  },
  {
   "cell_type": "markdown",
   "metadata": {},
   "source": [
    "** What is the email of the person with the following Credit Card Number: 4926535242672853 **"
   ]
  },
  {
   "cell_type": "code",
   "execution_count": 45,
   "metadata": {},
   "outputs": [
    {
     "data": {
      "text/plain": [
       "1234    bondellen@williams-garza.com\n",
       "Name: Email, dtype: object"
      ]
     },
     "execution_count": 45,
     "metadata": {},
     "output_type": "execute_result"
    }
   ],
   "source": [
    "ecom[ecom['Credit Card']==4926535242672853 ]['Email']"
   ]
  },
  {
   "cell_type": "markdown",
   "metadata": {},
   "source": [
    "** How many people have American Express as their Credit Card Provider *and* made a purchase above $95 ?**"
   ]
  },
  {
   "cell_type": "code",
   "execution_count": 84,
   "metadata": {},
   "outputs": [
    {
     "name": "stdout",
     "output_type": "stream",
     "text": [
      "<class 'pandas.core.frame.DataFrame'>\n",
      "Int64Index: 39 entries, 9 to 9856\n",
      "Data columns (total 14 columns):\n",
      "Address             39 non-null object\n",
      "Lot                 39 non-null object\n",
      "AM or PM            39 non-null object\n",
      "Browser Info        39 non-null object\n",
      "Company             39 non-null object\n",
      "Credit Card         39 non-null int64\n",
      "CC Exp Date         39 non-null object\n",
      "CC Security Code    39 non-null int64\n",
      "CC Provider         39 non-null object\n",
      "Email               39 non-null object\n",
      "Job                 39 non-null object\n",
      "IP Address          39 non-null object\n",
      "Language            39 non-null object\n",
      "Purchase Price      39 non-null float64\n",
      "dtypes: float64(1), int64(2), object(11)\n",
      "memory usage: 4.6+ KB\n"
     ]
    }
   ],
   "source": [
    "amex=ecom[ecom['CC Provider']=='American Express']\n",
    "amex2=amex[amex['Purchase Price']>95].info()\n",
    "#39 nguoi"
   ]
  },
  {
   "cell_type": "markdown",
   "metadata": {},
   "source": [
    "** Hard: How many people have a credit card that expires in 2025? **"
   ]
  },
  {
   "cell_type": "code",
   "execution_count": 117,
   "metadata": {},
   "outputs": [],
   "source": []
  },
  {
   "cell_type": "markdown",
   "metadata": {},
   "source": [
    "** Hard: What are the top 5 most popular email providers/hosts (e.g. gmail.com, yahoo.com, etc...) **"
   ]
  },
  {
   "cell_type": "code",
   "execution_count": null,
   "metadata": {},
   "outputs": [],
   "source": []
  },
  {
   "cell_type": "markdown",
   "metadata": {},
   "source": [
    "### Data Visualization\n",
    "\n",
    "** Implement a bar plot for top 5 most popular email providers/hosts **"
   ]
  },
  {
   "cell_type": "code",
   "execution_count": 100,
   "metadata": {},
   "outputs": [],
   "source": [
    "import seaborn as sns"
   ]
  },
  {
   "cell_type": "markdown",
   "metadata": {},
   "source": [
    "** Plot distribution of Purchase Price **"
   ]
  },
  {
   "cell_type": "code",
   "execution_count": 114,
   "metadata": {},
   "outputs": [
    {
     "name": "stderr",
     "output_type": "stream",
     "text": [
      "/Users/chhquyen/anaconda3/lib/python3.7/site-packages/scipy/stats/stats.py:1713: FutureWarning: Using a non-tuple sequence for multidimensional indexing is deprecated; use `arr[tuple(seq)]` instead of `arr[seq]`. In the future this will be interpreted as an array index, `arr[np.array(seq)]`, which will result either in an error or a different result.\n",
      "  return np.add.reduce(sorted[indexer] * weights, axis=axis) / sumval\n"
     ]
    },
    {
     "data": {
      "text/plain": [
       "<matplotlib.axes._subplots.AxesSubplot at 0x1a181a4f28>"
      ]
     },
     "execution_count": 114,
     "metadata": {},
     "output_type": "execute_result"
    },
    {
     "data": {
      "image/png": "[encoded data removed]",
      "text/plain": [
       "<Figure size 432x288 with 1 Axes>"
      ]
     },
     "metadata": {
      "needs_background": "light"
     },
     "output_type": "display_data"
    }
   ],
   "source": [
    "sns.distplot(ecom[ecom['Language']=='de']['Purchase Price'], hist=False,label='de')\n",
    "sns.distplot(ecom[ecom['Language']=='ru']['Purchase Price'], hist=False,label='ru')\n",
    "sns.distplot(ecom[ecom['Language']=='el']['Purchase Price'], hist=False,label='el')\n",
    "sns.distplot(ecom[ecom['Language']=='pt']['Purchase Price'], hist=False,label='pt')\n",
    "sns.distplot(ecom[ecom['Language']=='en']['Purchase Price'], hist=False,label='en')\n",
    "sns.distplot(ecom[ecom['Language']=='fr']['Purchase Price'], hist=False,label='fr')\n",
    "sns.distplot(ecom[ecom['Language']=='es']['Purchase Price'], hist=False,label='es')\n",
    "sns.distplot(ecom[ecom['Language']=='it']['Purchase Price'], hist=False,label='it')\n",
    "sns.distplot(ecom[ecom['Language']=='zh']['Purchase Price'], hist=False,label='zh')"
   ]
  },
  {
   "cell_type": "markdown",
   "metadata": {},
   "source": [
    "** Implement countplot on Language **"
   ]
  },
  {
   "cell_type": "code",
   "execution_count": 107,
   "metadata": {},
   "outputs": [
    {
     "data": {
      "text/plain": [
       "<matplotlib.axes._subplots.AxesSubplot at 0x1a177e2978>"
      ]
     },
     "execution_count": 107,
     "metadata": {},
     "output_type": "execute_result"
    },
    {
     "data": {
      "image/png": "[encoded data removed]",
      "text/plain": [
       "<Figure size 432x288 with 1 Axes>"
      ]
     },
     "metadata": {
      "needs_background": "light"
     },
     "output_type": "display_data"
    }
   ],
   "source": [
    "sns.countplot(x='Language',data=ecom)"
   ]
  },
  {
   "cell_type": "code",
   "execution_count": null,
   "metadata": {},
   "outputs": [],
   "source": []
  },
  {
   "cell_type": "code",
   "execution_count": null,
   "metadata": {},
   "outputs": [],
   "source": [
    "Feel free to plot more graphs to dive deeper into the dataset."
   ]
  },
  {
   "cell_type": "markdown",
   "metadata": {},
   "source": [
    "# Great Job!"
   ]
  }
 ],
 "metadata": {
  "kernelspec": {
   "display_name": "Python 3",
   "language": "python",
   "name": "python3"
  },
  "language_info": {
   "codemirror_mode": {
    "name": "ipython",
    "version": 3
   },
   "file_extension": ".py",
   "mimetype": "text/x-python",
   "name": "python",
   "nbconvert_exporter": "python",
   "pygments_lexer": "ipython3",
   "version": "3.7.0"
  }
 },
 "nbformat": 4,
 "nbformat_minor": 1
}
